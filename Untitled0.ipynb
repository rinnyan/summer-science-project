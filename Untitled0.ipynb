{
  "nbformat": 4,
  "nbformat_minor": 0,
  "metadata": {
    "colab": {
      "name": "Untitled0.ipynb",
      "version": "0.3.2",
      "provenance": [],
      "collapsed_sections": [],
      "include_colab_link": true
    },
    "kernelspec": {
      "name": "python3",
      "display_name": "Python 3"
    }
  },
  "cells": [
    {
      "cell_type": "markdown",
      "metadata": {
        "id": "view-in-github",
        "colab_type": "text"
      },
      "source": [
        "<a href=\"https://colab.research.google.com/github/rinnyan/summer-science-project/blob/master/Untitled0.ipynb\" target=\"_parent\"><img src=\"https://colab.research.google.com/assets/colab-badge.svg\" alt=\"Open In Colab\"/></a>"
      ]
    },
    {
      "cell_type": "markdown",
      "metadata": {
        "id": "ncvgBH5HhdmL",
        "colab_type": "text"
      },
      "source": [
        "# ぼくの自由研究\n"
      ]
    },
    {
      "cell_type": "markdown",
      "metadata": {
        "id": "TPFMLPWtkAjj",
        "colab_type": "text"
      },
      "source": [
        "## はじめに\n",
        "+ 僕はしょうらいゲーム会社にはいりたいとおもっているので、お父さんと相談してプログラムをすることにきめました。\n",
        "+ プログラムはPythonのnotebookをつかって、算数の計算をすることにしました。"
      ]
    },
    {
      "cell_type": "markdown",
      "metadata": {
        "id": "QxR0jz7-j5f4",
        "colab_type": "text"
      },
      "source": [
        "## たし算\n"
      ]
    },
    {
      "cell_type": "code",
      "metadata": {
        "id": "DzZawuBOho3m",
        "colab_type": "code",
        "outputId": "534fc91f-998f-407c-ab19-bad00609d863",
        "colab": {
          "base_uri": "https://localhost:8080/",
          "height": 34
        }
      },
      "source": [
        "a=23\n",
        "b=45\n",
        "c=a+b\n",
        "c"
      ],
      "execution_count": 0,
      "outputs": [
        {
          "output_type": "execute_result",
          "data": {
            "text/plain": [
              "68"
            ]
          },
          "metadata": {
            "tags": []
          },
          "execution_count": 7
        }
      ]
    },
    {
      "cell_type": "markdown",
      "metadata": {
        "id": "XkBOXgrsiu_r",
        "colab_type": "text"
      },
      "source": [
        "## 引き算\n"
      ]
    },
    {
      "cell_type": "code",
      "metadata": {
        "id": "Qw3ljLUgi_F_",
        "colab_type": "code",
        "outputId": "fb98d2bc-b5a1-45a3-d1fc-35292a37b0be",
        "colab": {
          "base_uri": "https://localhost:8080/",
          "height": 34
        }
      },
      "source": [
        "a=23\n",
        "b=45\n",
        "c=b-a\n",
        "c"
      ],
      "execution_count": 0,
      "outputs": [
        {
          "output_type": "execute_result",
          "data": {
            "text/plain": [
              "22"
            ]
          },
          "metadata": {
            "tags": []
          },
          "execution_count": 11
        }
      ]
    },
    {
      "cell_type": "markdown",
      "metadata": {
        "id": "jFoNS-M1duSl",
        "colab_type": "text"
      },
      "source": [
        "## 掛け算"
      ]
    },
    {
      "cell_type": "code",
      "metadata": {
        "id": "j-C7-RDBeoPY",
        "colab_type": "code",
        "outputId": "ce34f5dd-865e-46f1-bd03-d9c75912218a",
        "colab": {
          "base_uri": "https://localhost:8080/",
          "height": 34
        }
      },
      "source": [
        "a=23\n",
        "b=45\n",
        "c=16\n",
        "d=71\n",
        "e=a*b*c*d\n",
        "e"
      ],
      "execution_count": 0,
      "outputs": [
        {
          "output_type": "execute_result",
          "data": {
            "text/plain": [
              "1175760"
            ]
          },
          "metadata": {
            "tags": []
          },
          "execution_count": 6
        }
      ]
    },
    {
      "cell_type": "markdown",
      "metadata": {
        "id": "Crqpt3Lqi18g",
        "colab_type": "text"
      },
      "source": [
        "## 割り算\n"
      ]
    },
    {
      "cell_type": "code",
      "metadata": {
        "id": "SaE_-ahtjJfQ",
        "colab_type": "code",
        "outputId": "b23c424c-d1cb-4f39-88fe-f77df2abb730",
        "colab": {
          "base_uri": "https://localhost:8080/",
          "height": 34
        }
      },
      "source": [
        "a=15\n",
        "b=46\n",
        "c=b/a\n",
        "c\n"
      ],
      "execution_count": 0,
      "outputs": [
        {
          "output_type": "execute_result",
          "data": {
            "text/plain": [
              "3.066666666666667"
            ]
          },
          "metadata": {
            "tags": []
          },
          "execution_count": 19
        }
      ]
    },
    {
      "cell_type": "code",
      "metadata": {
        "id": "Y6pZP5s0msl_",
        "colab_type": "code",
        "outputId": "db1b5766-758e-4c24-ae2a-ce1e43e921c2",
        "colab": {
          "base_uri": "https://localhost:8080/",
          "height": 34
        }
      },
      "source": [
        "d=b%a\n",
        "d\n"
      ],
      "execution_count": 0,
      "outputs": [
        {
          "output_type": "execute_result",
          "data": {
            "text/plain": [
              "1"
            ]
          },
          "metadata": {
            "tags": []
          },
          "execution_count": 20
        }
      ]
    },
    {
      "cell_type": "markdown",
      "metadata": {
        "id": "Ox-9qjGhjb4s",
        "colab_type": "text"
      },
      "source": [
        "## 最大公約数\n",
        "\n"
      ]
    },
    {
      "cell_type": "code",
      "metadata": {
        "id": "sX9WtTP3jv0-",
        "colab_type": "code",
        "outputId": "c0adc9a1-bd6f-45e8-aeba-a6ddc07c1ee4",
        "colab": {
          "base_uri": "https://localhost:8080/",
          "height": 34
        }
      },
      "source": [
        "import math\n",
        "\n",
        "a=132\n",
        "b=88\n",
        "c=math.gcd(a, b)\n",
        "c"
      ],
      "execution_count": 0,
      "outputs": [
        {
          "output_type": "execute_result",
          "data": {
            "text/plain": [
              "44"
            ]
          },
          "metadata": {
            "tags": []
          },
          "execution_count": 29
        }
      ]
    },
    {
      "cell_type": "code",
      "metadata": {
        "id": "ZHaJf1Z0mfG5",
        "colab_type": "code",
        "colab": {
          "base_uri": "https://localhost:8080/",
          "height": 34
        },
        "outputId": "6aad0609-d066-4036-f614-236bf91025a3"
      },
      "source": [
        "a=132\n",
        "b=88\n",
        "\n",
        "# 最大公約数\n",
        "def mygcd(x,y):\n",
        "  # yがxより大きい場合は、xとyを入れ替える\n",
        "  if y>x:\n",
        "    tmp=y\n",
        "    y=x\n",
        "    x=tmp\n",
        "  # ユーグリットの互除法のアルゴリズムを使う\n",
        "  while y!=0:\n",
        "    x,y=y,x%y\n",
        "  return x\n",
        "\n",
        "c=mygcd(a,b)\n",
        "c"
      ],
      "execution_count": 8,
      "outputs": [
        {
          "output_type": "execute_result",
          "data": {
            "text/plain": [
              "44"
            ]
          },
          "metadata": {
            "tags": []
          },
          "execution_count": 8
        }
      ]
    },
    {
      "cell_type": "markdown",
      "metadata": {
        "id": "m3auWRnYjpEY",
        "colab_type": "text"
      },
      "source": [
        "## 最小公倍数\n"
      ]
    },
    {
      "cell_type": "code",
      "metadata": {
        "id": "q1KRcVBxjuyZ",
        "colab_type": "code",
        "outputId": "e2943c65-eb16-45ae-a79b-f64fa5a94b58",
        "colab": {
          "base_uri": "https://localhost:8080/",
          "height": 34
        }
      },
      "source": [
        "a=132\n",
        "b=88\n",
        "\n",
        "def lcm(x, y):\n",
        "  # （2つの数の最小公約数）かける（2つの数の最大公約数）＝2つの数をかけたものなので\n",
        "  return (x * y) // mygcd(x, y)\n",
        "\n",
        "c=lcm(a, b)\n",
        "c"
      ],
      "execution_count": 10,
      "outputs": [
        {
          "output_type": "execute_result",
          "data": {
            "text/plain": [
              "264"
            ]
          },
          "metadata": {
            "tags": []
          },
          "execution_count": 10
        }
      ]
    },
    {
      "cell_type": "markdown",
      "metadata": {
        "colab_type": "text",
        "id": "qvy6tgt7kZDq"
      },
      "source": [
        "## プログラムをしてみて\n",
        "+ やってみた感想は、aとか、bとかに、数字を入れることで、計算が出来るんだとびっくりしました。\n",
        "+ 割り算の演算子➗がプログラムでは /　だったり、余りが%だったり、✖︎も * でおもしろいと思いました。\n",
        "+ あと最小公倍数や、最大公約数は、難しかったので、お父さんと一緒に調べてやりました。\n",
        "+ スクラッチのゲームは、もう作ったことがあるので、次はスマホゲームを作りたいです。\n"
      ]
    }
  ]
}